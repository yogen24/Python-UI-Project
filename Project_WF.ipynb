{
 "cells": [
  {
   "cell_type": "markdown",
   "metadata": {},
   "source": [
    "# Python as a BI Tool"
   ]
  },
  {
   "cell_type": "markdown",
   "metadata": {},
   "source": [
    "## Importing Libraries"
   ]
  },
  {
   "cell_type": "code",
   "execution_count": 1,
   "metadata": {},
   "outputs": [],
   "source": [
    "import numpy as np\n",
    "import pandas as pd\n",
    "import matplotlib.pyplot as plt\n",
    "import seaborn as sns\n",
    "from datetime import datetime\n",
    "%matplotlib inline"
   ]
  },
  {
   "cell_type": "markdown",
   "metadata": {},
   "source": [
    "## Data Input and Cleaning"
   ]
  },
  {
   "cell_type": "markdown",
   "metadata": {},
   "source": [
    "### 1) Loan"
   ]
  },
  {
   "cell_type": "code",
   "execution_count": 2,
   "metadata": {},
   "outputs": [
    {
     "data": {
      "text/html": [
       "<div>\n",
       "<style scoped>\n",
       "    .dataframe tbody tr th:only-of-type {\n",
       "        vertical-align: middle;\n",
       "    }\n",
       "\n",
       "    .dataframe tbody tr th {\n",
       "        vertical-align: top;\n",
       "    }\n",
       "\n",
       "    .dataframe thead th {\n",
       "        text-align: right;\n",
       "    }\n",
       "</style>\n",
       "<table border=\"1\" class=\"dataframe\">\n",
       "  <thead>\n",
       "    <tr style=\"text-align: right;\">\n",
       "      <th></th>\n",
       "      <th>loan_id</th>\n",
       "      <th>account_id</th>\n",
       "      <th>amount</th>\n",
       "      <th>duration</th>\n",
       "      <th>payments</th>\n",
       "      <th>status</th>\n",
       "      <th>Loan_date</th>\n",
       "    </tr>\n",
       "  </thead>\n",
       "  <tbody>\n",
       "    <tr>\n",
       "      <th>0</th>\n",
       "      <td>5314</td>\n",
       "      <td>1787</td>\n",
       "      <td>96396</td>\n",
       "      <td>12</td>\n",
       "      <td>8033</td>\n",
       "      <td>Contract Finished, Loan Not Paid</td>\n",
       "      <td>1993-07-05</td>\n",
       "    </tr>\n",
       "    <tr>\n",
       "      <th>1</th>\n",
       "      <td>5316</td>\n",
       "      <td>1801</td>\n",
       "      <td>165960</td>\n",
       "      <td>36</td>\n",
       "      <td>4610</td>\n",
       "      <td>Contract Finished, No Problems</td>\n",
       "      <td>1993-07-11</td>\n",
       "    </tr>\n",
       "    <tr>\n",
       "      <th>2</th>\n",
       "      <td>6863</td>\n",
       "      <td>9188</td>\n",
       "      <td>127080</td>\n",
       "      <td>60</td>\n",
       "      <td>2118</td>\n",
       "      <td>Contract Finished, No Problems</td>\n",
       "      <td>1993-07-28</td>\n",
       "    </tr>\n",
       "  </tbody>\n",
       "</table>\n",
       "</div>"
      ],
      "text/plain": [
       "   loan_id  account_id  amount  duration  payments  \\\n",
       "0     5314        1787   96396        12      8033   \n",
       "1     5316        1801  165960        36      4610   \n",
       "2     6863        9188  127080        60      2118   \n",
       "\n",
       "                             status  Loan_date  \n",
       "0  Contract Finished, Loan Not Paid 1993-07-05  \n",
       "1    Contract Finished, No Problems 1993-07-11  \n",
       "2    Contract Finished, No Problems 1993-07-28  "
      ]
     },
     "execution_count": 2,
     "metadata": {},
     "output_type": "execute_result"
    }
   ],
   "source": [
    "loan=pd.read_csv('loan1.csv')\n",
    "loan['status'].replace({\"A\": \"Contract Finished, No Problems\", \"B\": \"Contract Finished, Loan Not Paid\",\n",
    "                                'C':'Running Contract, OK so far','D':'Running Contract, Client in Debt'}, inplace=True)\n",
    "loan['Loan_date'] = pd.to_datetime(loan['Modified_date'].astype(str), format='%Y%m%d')\n",
    "loan=loan.drop(['date','Modified_date'],axis=1)\n",
    "loan.head(3)"
   ]
  },
  {
   "cell_type": "markdown",
   "metadata": {},
   "source": [
    "### 2) Client "
   ]
  },
  {
   "cell_type": "code",
   "execution_count": 3,
   "metadata": {},
   "outputs": [
    {
     "data": {
      "text/html": [
       "<div>\n",
       "<style scoped>\n",
       "    .dataframe tbody tr th:only-of-type {\n",
       "        vertical-align: middle;\n",
       "    }\n",
       "\n",
       "    .dataframe tbody tr th {\n",
       "        vertical-align: top;\n",
       "    }\n",
       "\n",
       "    .dataframe thead th {\n",
       "        text-align: right;\n",
       "    }\n",
       "</style>\n",
       "<table border=\"1\" class=\"dataframe\">\n",
       "  <thead>\n",
       "    <tr style=\"text-align: right;\">\n",
       "      <th></th>\n",
       "      <th>client_id</th>\n",
       "      <th>district_id</th>\n",
       "      <th>gender</th>\n",
       "      <th>birth_date</th>\n",
       "      <th>Age</th>\n",
       "    </tr>\n",
       "  </thead>\n",
       "  <tbody>\n",
       "    <tr>\n",
       "      <th>0</th>\n",
       "      <td>1</td>\n",
       "      <td>18</td>\n",
       "      <td>F</td>\n",
       "      <td>1970-12-13</td>\n",
       "      <td>28</td>\n",
       "    </tr>\n",
       "    <tr>\n",
       "      <th>1</th>\n",
       "      <td>2</td>\n",
       "      <td>1</td>\n",
       "      <td>M</td>\n",
       "      <td>1945-02-04</td>\n",
       "      <td>53</td>\n",
       "    </tr>\n",
       "    <tr>\n",
       "      <th>2</th>\n",
       "      <td>3</td>\n",
       "      <td>1</td>\n",
       "      <td>F</td>\n",
       "      <td>1940-10-09</td>\n",
       "      <td>58</td>\n",
       "    </tr>\n",
       "  </tbody>\n",
       "</table>\n",
       "</div>"
      ],
      "text/plain": [
       "   client_id  district_id gender birth_date  Age\n",
       "0          1           18      F 1970-12-13   28\n",
       "1          2            1      M 1945-02-04   53\n",
       "2          3            1      F 1940-10-09   58"
      ]
     },
     "execution_count": 3,
     "metadata": {},
     "output_type": "execute_result"
    }
   ],
   "source": [
    "client=pd.read_csv('client1.csv')\n",
    "client['birth_date'] = pd.to_datetime(client['birth_date'].astype(str), format='%Y%m%d')\n",
    "client=client.drop(['birth_number','corrected_birthnum'],axis=1)\n",
    "client['Age']= 1998-client['birth_date'].apply(lambda i: i.year)\n",
    "client.head(3)"
   ]
  },
  {
   "cell_type": "markdown",
   "metadata": {},
   "source": [
    "### 3) District"
   ]
  },
  {
   "cell_type": "code",
   "execution_count": 4,
   "metadata": {},
   "outputs": [
    {
     "data": {
      "text/html": [
       "<div>\n",
       "<style scoped>\n",
       "    .dataframe tbody tr th:only-of-type {\n",
       "        vertical-align: middle;\n",
       "    }\n",
       "\n",
       "    .dataframe tbody tr th {\n",
       "        vertical-align: top;\n",
       "    }\n",
       "\n",
       "    .dataframe thead th {\n",
       "        text-align: right;\n",
       "    }\n",
       "</style>\n",
       "<table border=\"1\" class=\"dataframe\">\n",
       "  <thead>\n",
       "    <tr style=\"text-align: right;\">\n",
       "      <th></th>\n",
       "      <th>district_id</th>\n",
       "      <th>District_Name</th>\n",
       "      <th>Region</th>\n",
       "      <th>Population</th>\n",
       "      <th>Avg_Salary</th>\n",
       "    </tr>\n",
       "  </thead>\n",
       "  <tbody>\n",
       "    <tr>\n",
       "      <th>0</th>\n",
       "      <td>1</td>\n",
       "      <td>Hl.m. Praha</td>\n",
       "      <td>Prague</td>\n",
       "      <td>1204953</td>\n",
       "      <td>12541</td>\n",
       "    </tr>\n",
       "    <tr>\n",
       "      <th>1</th>\n",
       "      <td>2</td>\n",
       "      <td>Benesov</td>\n",
       "      <td>central Bohemia</td>\n",
       "      <td>88884</td>\n",
       "      <td>8507</td>\n",
       "    </tr>\n",
       "    <tr>\n",
       "      <th>2</th>\n",
       "      <td>3</td>\n",
       "      <td>Beroun</td>\n",
       "      <td>central Bohemia</td>\n",
       "      <td>75232</td>\n",
       "      <td>8980</td>\n",
       "    </tr>\n",
       "  </tbody>\n",
       "</table>\n",
       "</div>"
      ],
      "text/plain": [
       "   district_id District_Name           Region  Population  Avg_Salary\n",
       "0            1   Hl.m. Praha           Prague     1204953       12541\n",
       "1            2       Benesov  central Bohemia       88884        8507\n",
       "2            3        Beroun  central Bohemia       75232        8980"
      ]
     },
     "execution_count": 4,
     "metadata": {},
     "output_type": "execute_result"
    }
   ],
   "source": [
    "district=pd.read_csv('district.csv')\n",
    "district=district.drop(['A5','A6','A7','A8','A9','A10','A12','A13','A14','A15','A16'],axis=1)\n",
    "district=district.rename(columns={'A1':'district_id','A2':'District_Name','A3':'Region','A4':'Population','A11':'Avg_Salary'})\n",
    "district.head(3)"
   ]
  },
  {
   "cell_type": "markdown",
   "metadata": {},
   "source": [
    "### 4) Account"
   ]
  },
  {
   "cell_type": "code",
   "execution_count": 5,
   "metadata": {},
   "outputs": [
    {
     "data": {
      "text/html": [
       "<div>\n",
       "<style scoped>\n",
       "    .dataframe tbody tr th:only-of-type {\n",
       "        vertical-align: middle;\n",
       "    }\n",
       "\n",
       "    .dataframe tbody tr th {\n",
       "        vertical-align: top;\n",
       "    }\n",
       "\n",
       "    .dataframe thead th {\n",
       "        text-align: right;\n",
       "    }\n",
       "</style>\n",
       "<table border=\"1\" class=\"dataframe\">\n",
       "  <thead>\n",
       "    <tr style=\"text-align: right;\">\n",
       "      <th></th>\n",
       "      <th>account_id</th>\n",
       "      <th>district_id</th>\n",
       "      <th>frequency</th>\n",
       "      <th>Account_date</th>\n",
       "    </tr>\n",
       "  </thead>\n",
       "  <tbody>\n",
       "    <tr>\n",
       "      <th>0</th>\n",
       "      <td>576</td>\n",
       "      <td>55</td>\n",
       "      <td>Monthly Issuance</td>\n",
       "      <td>1993-01-01</td>\n",
       "    </tr>\n",
       "    <tr>\n",
       "      <th>1</th>\n",
       "      <td>3818</td>\n",
       "      <td>74</td>\n",
       "      <td>Monthly Issuance</td>\n",
       "      <td>1993-01-01</td>\n",
       "    </tr>\n",
       "    <tr>\n",
       "      <th>2</th>\n",
       "      <td>704</td>\n",
       "      <td>55</td>\n",
       "      <td>Monthly Issuance</td>\n",
       "      <td>1993-01-01</td>\n",
       "    </tr>\n",
       "  </tbody>\n",
       "</table>\n",
       "</div>"
      ],
      "text/plain": [
       "   account_id  district_id         frequency Account_date\n",
       "0         576           55  Monthly Issuance   1993-01-01\n",
       "1        3818           74  Monthly Issuance   1993-01-01\n",
       "2         704           55  Monthly Issuance   1993-01-01"
      ]
     },
     "execution_count": 5,
     "metadata": {},
     "output_type": "execute_result"
    }
   ],
   "source": [
    "account=pd.read_csv('account1.csv')\n",
    "account['frequency'].replace({\"POPLATEK MESICNE\": \"Monthly Issuance\", \"POPLATEK TYDNE\": \"Weekly Issuance\",\n",
    "                             'POPLATEK PO OBRATU':'Issuance After Transaction'}, inplace=True)\n",
    "account['Account_date'] = pd.to_datetime(account['Modified_date'].astype(str), format='%Y%m%d')\n",
    "account=account.drop(['date','Modified_date'],axis=1)\n",
    "account.head(3)"
   ]
  },
  {
   "cell_type": "markdown",
   "metadata": {},
   "source": [
    "### 5) Disposition"
   ]
  },
  {
   "cell_type": "code",
   "execution_count": 6,
   "metadata": {},
   "outputs": [
    {
     "data": {
      "text/html": [
       "<div>\n",
       "<style scoped>\n",
       "    .dataframe tbody tr th:only-of-type {\n",
       "        vertical-align: middle;\n",
       "    }\n",
       "\n",
       "    .dataframe tbody tr th {\n",
       "        vertical-align: top;\n",
       "    }\n",
       "\n",
       "    .dataframe thead th {\n",
       "        text-align: right;\n",
       "    }\n",
       "</style>\n",
       "<table border=\"1\" class=\"dataframe\">\n",
       "  <thead>\n",
       "    <tr style=\"text-align: right;\">\n",
       "      <th></th>\n",
       "      <th>disp_id</th>\n",
       "      <th>client_id</th>\n",
       "      <th>account_id</th>\n",
       "      <th>Disp_type</th>\n",
       "    </tr>\n",
       "  </thead>\n",
       "  <tbody>\n",
       "    <tr>\n",
       "      <th>0</th>\n",
       "      <td>1</td>\n",
       "      <td>1</td>\n",
       "      <td>1</td>\n",
       "      <td>OWNER</td>\n",
       "    </tr>\n",
       "    <tr>\n",
       "      <th>1</th>\n",
       "      <td>2</td>\n",
       "      <td>2</td>\n",
       "      <td>2</td>\n",
       "      <td>OWNER</td>\n",
       "    </tr>\n",
       "    <tr>\n",
       "      <th>2</th>\n",
       "      <td>3</td>\n",
       "      <td>3</td>\n",
       "      <td>2</td>\n",
       "      <td>DISPONENT</td>\n",
       "    </tr>\n",
       "  </tbody>\n",
       "</table>\n",
       "</div>"
      ],
      "text/plain": [
       "   disp_id  client_id  account_id  Disp_type\n",
       "0        1          1           1      OWNER\n",
       "1        2          2           2      OWNER\n",
       "2        3          3           2  DISPONENT"
      ]
     },
     "execution_count": 6,
     "metadata": {},
     "output_type": "execute_result"
    }
   ],
   "source": [
    "disp=pd.read_csv('disp.csv')\n",
    "disp=disp.rename(columns={'type':'Disp_type'})\n",
    "disp.head(3)"
   ]
  },
  {
   "cell_type": "markdown",
   "metadata": {},
   "source": [
    "### 6) Order"
   ]
  },
  {
   "cell_type": "code",
   "execution_count": 7,
   "metadata": {},
   "outputs": [
    {
     "data": {
      "text/html": [
       "<div>\n",
       "<style scoped>\n",
       "    .dataframe tbody tr th:only-of-type {\n",
       "        vertical-align: middle;\n",
       "    }\n",
       "\n",
       "    .dataframe tbody tr th {\n",
       "        vertical-align: top;\n",
       "    }\n",
       "\n",
       "    .dataframe thead th {\n",
       "        text-align: right;\n",
       "    }\n",
       "</style>\n",
       "<table border=\"1\" class=\"dataframe\">\n",
       "  <thead>\n",
       "    <tr style=\"text-align: right;\">\n",
       "      <th></th>\n",
       "      <th>order_id</th>\n",
       "      <th>account_id</th>\n",
       "      <th>bank_to</th>\n",
       "      <th>amount</th>\n",
       "      <th>Order_Description</th>\n",
       "    </tr>\n",
       "  </thead>\n",
       "  <tbody>\n",
       "    <tr>\n",
       "      <th>0</th>\n",
       "      <td>29401</td>\n",
       "      <td>1</td>\n",
       "      <td>YZ</td>\n",
       "      <td>2452.0</td>\n",
       "      <td>Household Payment</td>\n",
       "    </tr>\n",
       "    <tr>\n",
       "      <th>1</th>\n",
       "      <td>29402</td>\n",
       "      <td>2</td>\n",
       "      <td>ST</td>\n",
       "      <td>3372.7</td>\n",
       "      <td>Loan Payment</td>\n",
       "    </tr>\n",
       "    <tr>\n",
       "      <th>2</th>\n",
       "      <td>29403</td>\n",
       "      <td>2</td>\n",
       "      <td>QR</td>\n",
       "      <td>7266.0</td>\n",
       "      <td>Household Payment</td>\n",
       "    </tr>\n",
       "  </tbody>\n",
       "</table>\n",
       "</div>"
      ],
      "text/plain": [
       "   order_id  account_id bank_to  amount  Order_Description\n",
       "0     29401           1      YZ  2452.0  Household Payment\n",
       "1     29402           2      ST  3372.7       Loan Payment\n",
       "2     29403           2      QR  7266.0  Household Payment"
      ]
     },
     "execution_count": 7,
     "metadata": {},
     "output_type": "execute_result"
    }
   ],
   "source": [
    "order=pd.read_csv('order1.csv')\n",
    "order['k_symbol'].replace({\"POJISTNE\": \"Insurance Payment\", \"SIPO\": \"Household Payment\",'LEASING':'Leasing',\n",
    "                             'UVER':'Loan Payment',' ':'Other Payments'}, inplace=True)\n",
    "order=order.rename(columns={'k_symbol':'Order_Description'})\n",
    "order=order.drop(['account_to'],axis=1)\n",
    "order.head(3)"
   ]
  },
  {
   "cell_type": "markdown",
   "metadata": {},
   "source": [
    "### 7) Card"
   ]
  },
  {
   "cell_type": "code",
   "execution_count": 8,
   "metadata": {},
   "outputs": [
    {
     "data": {
      "text/html": [
       "<div>\n",
       "<style scoped>\n",
       "    .dataframe tbody tr th:only-of-type {\n",
       "        vertical-align: middle;\n",
       "    }\n",
       "\n",
       "    .dataframe tbody tr th {\n",
       "        vertical-align: top;\n",
       "    }\n",
       "\n",
       "    .dataframe thead th {\n",
       "        text-align: right;\n",
       "    }\n",
       "</style>\n",
       "<table border=\"1\" class=\"dataframe\">\n",
       "  <thead>\n",
       "    <tr style=\"text-align: right;\">\n",
       "      <th></th>\n",
       "      <th>card_id</th>\n",
       "      <th>disp_id</th>\n",
       "      <th>Card_type</th>\n",
       "      <th>Card_issued</th>\n",
       "    </tr>\n",
       "  </thead>\n",
       "  <tbody>\n",
       "    <tr>\n",
       "      <th>0</th>\n",
       "      <td>1005</td>\n",
       "      <td>9285</td>\n",
       "      <td>classic</td>\n",
       "      <td>1993-11-07</td>\n",
       "    </tr>\n",
       "    <tr>\n",
       "      <th>1</th>\n",
       "      <td>104</td>\n",
       "      <td>588</td>\n",
       "      <td>classic</td>\n",
       "      <td>1994-01-19</td>\n",
       "    </tr>\n",
       "    <tr>\n",
       "      <th>2</th>\n",
       "      <td>747</td>\n",
       "      <td>4915</td>\n",
       "      <td>classic</td>\n",
       "      <td>1994-02-05</td>\n",
       "    </tr>\n",
       "  </tbody>\n",
       "</table>\n",
       "</div>"
      ],
      "text/plain": [
       "   card_id  disp_id Card_type Card_issued\n",
       "0     1005     9285   classic  1993-11-07\n",
       "1      104      588   classic  1994-01-19\n",
       "2      747     4915   classic  1994-02-05"
      ]
     },
     "execution_count": 8,
     "metadata": {},
     "output_type": "execute_result"
    }
   ],
   "source": [
    "card=pd.read_csv('card1.csv')\n",
    "card['Card_issued'] = pd.to_datetime(card['issued_date'].astype(str), format='%Y%m%d')\n",
    "card=card.drop(['issued','issued_date'],axis=1)\n",
    "card=card.rename(columns={'type':'Card_type'})\n",
    "card.head(3)"
   ]
  },
  {
   "cell_type": "markdown",
   "metadata": {},
   "source": [
    "### 8) Transaction"
   ]
  },
  {
   "cell_type": "code",
   "execution_count": 9,
   "metadata": {},
   "outputs": [
    {
     "data": {
      "text/html": [
       "<div>\n",
       "<style scoped>\n",
       "    .dataframe tbody tr th:only-of-type {\n",
       "        vertical-align: middle;\n",
       "    }\n",
       "\n",
       "    .dataframe tbody tr th {\n",
       "        vertical-align: top;\n",
       "    }\n",
       "\n",
       "    .dataframe thead th {\n",
       "        text-align: right;\n",
       "    }\n",
       "</style>\n",
       "<table border=\"1\" class=\"dataframe\">\n",
       "  <thead>\n",
       "    <tr style=\"text-align: right;\">\n",
       "      <th></th>\n",
       "      <th>trans_id</th>\n",
       "      <th>account_id</th>\n",
       "      <th>Trans_date</th>\n",
       "      <th>trans_type</th>\n",
       "      <th>operation</th>\n",
       "      <th>trans_amount</th>\n",
       "    </tr>\n",
       "  </thead>\n",
       "  <tbody>\n",
       "    <tr>\n",
       "      <th>0</th>\n",
       "      <td>3548438</td>\n",
       "      <td>537</td>\n",
       "      <td>1998-07-31</td>\n",
       "      <td>Credit</td>\n",
       "      <td>Other transactions</td>\n",
       "      <td>208.9</td>\n",
       "    </tr>\n",
       "    <tr>\n",
       "      <th>1</th>\n",
       "      <td>841814</td>\n",
       "      <td>2865</td>\n",
       "      <td>1995-10-11</td>\n",
       "      <td>Withdrawal</td>\n",
       "      <td>Remittance to Another Bank</td>\n",
       "      <td>1.0</td>\n",
       "    </tr>\n",
       "    <tr>\n",
       "      <th>2</th>\n",
       "      <td>121479</td>\n",
       "      <td>408</td>\n",
       "      <td>1997-10-06</td>\n",
       "      <td>Credit</td>\n",
       "      <td>Credit in Cash</td>\n",
       "      <td>13304.0</td>\n",
       "    </tr>\n",
       "  </tbody>\n",
       "</table>\n",
       "</div>"
      ],
      "text/plain": [
       "   trans_id  account_id Trans_date  trans_type                   operation  \\\n",
       "0   3548438         537 1998-07-31      Credit          Other transactions   \n",
       "1    841814        2865 1995-10-11  Withdrawal  Remittance to Another Bank   \n",
       "2    121479         408 1997-10-06      Credit              Credit in Cash   \n",
       "\n",
       "   trans_amount  \n",
       "0         208.9  \n",
       "1           1.0  \n",
       "2       13304.0  "
      ]
     },
     "execution_count": 9,
     "metadata": {},
     "output_type": "execute_result"
    }
   ],
   "source": [
    "trans=pd.read_csv('trans1.csv')\n",
    "trans['type'].replace({\"PRIJEM\": \"Credit\", \"VYDAJ\": \"Withdrawal\"},inplace=True)\n",
    "trans['operation'].replace({\"VYBER KARTOU\": \"Credit Card Withdrawal\", \"VKLAD\": \"Credit in Cash\",\n",
    "                            'PREVOD Z UCTU':'Collection from Another Bank', \"VYBER\":\"Withdrawal in Cash\",\n",
    "                             'PREVOD NA UCET':'Remittance to Another Bank'}, inplace=True)\n",
    "trans['operation'].fillna('Other transactions',inplace=True)\n",
    "trans=trans.drop(['delete','balance','account','bank','k_symbol'],axis=1)\n",
    "trans=trans.rename(columns={'date':'Trans_date','type':'trans_type','amount':'trans_amount'})\n",
    "trans['Trans_date']=pd.to_datetime(trans['Trans_date'])\n",
    "trans.head(3)"
   ]
  },
  {
   "cell_type": "markdown",
   "metadata": {},
   "source": [
    "## Generating PPTs having visualizations"
   ]
  },
  {
   "cell_type": "markdown",
   "metadata": {},
   "source": [
    "### Viz-1: Simple Column Chart"
   ]
  },
  {
   "cell_type": "code",
   "execution_count": 10,
   "metadata": {},
   "outputs": [],
   "source": [
    "#Creating presentation, defining layout and creating a new slide\n",
    "from pptx import Presentation\n",
    "prs=Presentation()\n",
    "layout=prs.slide_layouts[5]\n",
    "slide=prs.slides.add_slide(layout)\n",
    "\n",
    "#Importing libraries to plot the chart\n",
    "from pptx.util import Inches\n",
    "from pptx.chart.data import CategoryChartData\n",
    "from pptx.enum.chart import XL_CHART_TYPE\n",
    "\n",
    "#Merging Client and District tables for our chart\n",
    "table=pd.merge(client,district,how='inner',on='district_id')\n",
    "\n",
    "#Specifying the data for categories(dimension) and series(values)\n",
    "mydata=CategoryChartData()\n",
    "x=table.groupby('District_Name').count()['client_id'].sort_values(ascending=False).iloc[0:10]\n",
    "mydata.categories=x.index\n",
    "mydata.add_series('No. of clients',x.values)\n",
    "\n",
    "#Specifying Left, Top, Width and Height margins\n",
    "x,y,cx,cy=Inches(2),Inches(2),Inches(8),Inches(5.5)\n",
    "\n",
    "#Creating chart based on chart type and data\n",
    "chart=slide.shapes.add_chart(XL_CHART_TYPE.COLUMN_CLUSTERED,x,y,cx,cy,mydata).chart\n",
    "\n",
    "#Adding legend and title\n",
    "chart.has_legend=True\n",
    "from pptx.util import Pt\n",
    "chart.chart_title.has_text_frame=True\n",
    "chart.chart_title.text_frame.text='Top 10 Districts with most clients'\n",
    "chart.chart_title.text_frame.paragraphs[0].font.size = Pt(20)\n",
    "chart.chart_title.text_frame.paragraphs[0].font.bold = True\n",
    "\n",
    "#Saving as ppt\n",
    "prs.save('Chart1.pptx')"
   ]
  },
  {
   "cell_type": "markdown",
   "metadata": {},
   "source": [
    "### Viz-2: Stacked Bar Chart"
   ]
  },
  {
   "cell_type": "code",
   "execution_count": 11,
   "metadata": {},
   "outputs": [
    {
     "data": {
      "text/plain": [
       "bank_to  Order_Description\n",
       "AB       Household Payment    1111015.0\n",
       "         Insurance Payment      79952.0\n",
       "         Leasing                57444.0\n",
       "         Loan Payment          238914.5\n",
       "         Other Payments        220064.0\n",
       "                                ...    \n",
       "YZ       Household Payment    1072609.0\n",
       "         Insurance Payment      72230.0\n",
       "         Leasing                72758.4\n",
       "         Loan Payment          228437.4\n",
       "         Other Payments        190948.0\n",
       "Name: amount, Length: 65, dtype: float64"
      ]
     },
     "execution_count": 11,
     "metadata": {},
     "output_type": "execute_result"
    }
   ],
   "source": [
    "#Grouping by bank and description in ORDER table\n",
    "grp=order.groupby(['bank_to','Order_Description'])['amount'].sum()\n",
    "grp"
   ]
  },
  {
   "cell_type": "code",
   "execution_count": 12,
   "metadata": {},
   "outputs": [],
   "source": [
    "slide=prs.slides.add_slide(layout)\n",
    "mydata=CategoryChartData()\n",
    "\n",
    "#Inputing various banks as dimension\n",
    "mydata.categories=np.sort(order['bank_to'].unique())\n",
    "\n",
    "#Inputing order description amounts as metric via loop\n",
    "for i in order['Order_Description'].unique():\n",
    "    mydata.add_series(i,grp[grp.index.get_level_values('Order_Description') == i].values)\n",
    "    \n",
    "x,y,cx,cy=Inches(2),Inches(2),Inches(8),Inches(5.5)\n",
    "chart=slide.shapes.add_chart(XL_CHART_TYPE.BAR_STACKED,x,y,cx,cy,mydata).chart\n",
    "\n",
    "chart.has_legend=True\n",
    "from pptx.util import Pt\n",
    "chart.chart_title.has_text_frame=True\n",
    "chart.chart_title.text_frame.text='Total Payment Amount(USD) by Type for Each Bank'\n",
    "chart.chart_title.text_frame.paragraphs[0].font.size = Pt(20)\n",
    "chart.chart_title.text_frame.paragraphs[0].font.bold = True\n",
    "\n",
    "prs.save('Chart2.pptx')"
   ]
  },
  {
   "cell_type": "markdown",
   "metadata": {},
   "source": [
    "### Viz-3: Time Series (Line chart)"
   ]
  },
  {
   "cell_type": "code",
   "execution_count": 13,
   "metadata": {},
   "outputs": [],
   "source": [
    "trans.set_index (trans['Trans_date'], inplace = True)\n",
    "trans=trans.sort_index()\n",
    "\n",
    "#Adding yearly inflow and outflow columns to TRANS table\n",
    "trans= trans.assign (positive = np.nan)\n",
    "trans= trans.assign (negative= np.nan)\n",
    "\n",
    "trans['positive'] = trans['trans_amount'].where (trans['operation'] == 'Credit in Cash', trans['positive'] )\n",
    "trans['positive'] = trans['trans_amount'].where (trans['operation'] == 'Collection from Another Bank', trans['positive'])\n",
    "\n",
    "trans['negative'] = trans['trans_amount'].where (trans['operation'] == 'Withdrawal in Cash', trans['negative'] )\n",
    "trans['negative'] = trans['trans_amount'].where (trans['operation'] == 'Remittance to Another Bank', trans['negative'] )\n",
    "trans['negative'] = trans['trans_amount'].where (trans['operation'] == 'Credit Card Withdrawal', trans['negative'])\n",
    "\n",
    "inflowsY = trans['positive'].resample('Y').sum ()\n",
    "outflowsY = trans['negative'].resample('Y').sum ()\n",
    "\n",
    "#Separating date on basis of year and month_year\n",
    "trans['Year']=trans['Trans_date'].apply(lambda i:i.year)\n",
    "trans['month_year'] = trans['Trans_date'].apply(lambda x: x.strftime('%b-%y')) \n",
    "\n",
    "slide=prs.slides.add_slide(layout)\n",
    "mydata=CategoryChartData()\n",
    "\n",
    "#Inputing Years as dimension\n",
    "mydata.categories=np.sort(trans['Year'].unique())\n",
    "\n",
    "#Inputing Total inflow and outflow amount as dimension\n",
    "mydata.add_series('Fund Inflow',inflowsY.values/1000000)\n",
    "mydata.add_series('Fund Outflow',outflowsY.values/1000000)\n",
    "    \n",
    "x,y,cx,cy=Inches(2),Inches(2),Inches(8),Inches(5.5)\n",
    "chart=slide.shapes.add_chart(XL_CHART_TYPE.LINE,x,y,cx,cy,mydata).chart\n",
    "\n",
    "chart.has_legend=True\n",
    "from pptx.util import Pt\n",
    "chart.chart_title.has_text_frame=True\n",
    "chart.chart_title.text_frame.text='Banks Yearly Fund Flow (Millions USD)'\n",
    "chart.chart_title.text_frame.paragraphs[0].font.size = Pt(20)\n",
    "chart.chart_title.text_frame.paragraphs[0].font.bold = True\n",
    "\n",
    "prs.save('Chart3.pptx')"
   ]
  },
  {
   "cell_type": "code",
   "execution_count": 14,
   "metadata": {},
   "outputs": [],
   "source": [
    "#Adding monthly inflow and outflow columns to TRANS table\n",
    "inflowsM = trans['positive'].resample('M').sum ()\n",
    "outflowsM = trans['negative'].resample('M').sum ()\n",
    "\n",
    "slide=prs.slides.add_slide(layout)\n",
    "mydata=CategoryChartData()\n",
    "\n",
    "#Inputing Years as dimension\n",
    "mydata.categories=sorted(trans['month_year'].unique().tolist(),key=lambda date:datetime.strptime(date,'%b-%y'))\n",
    "\n",
    "#Inputing Total inflow and outflow amount as dimension\n",
    "mydata.add_series('Fund Inflow',inflowsM.values/1000000)\n",
    "mydata.add_series('Fund Outflow',outflowsM.values/1000000)\n",
    "    \n",
    "x,y,cx,cy=Inches(2),Inches(2),Inches(8),Inches(5.5)\n",
    "chart=slide.shapes.add_chart(XL_CHART_TYPE.LINE,x,y,cx,cy,mydata).chart\n",
    "\n",
    "chart.has_legend=True\n",
    "from pptx.util import Pt\n",
    "chart.chart_title.has_text_frame=True\n",
    "chart.chart_title.text_frame.text='Banks Monthly Fund Flow (Millions USD)'\n",
    "chart.chart_title.text_frame.paragraphs[0].font.size = Pt(20)\n",
    "chart.chart_title.text_frame.paragraphs[0].font.bold = True\n",
    "\n",
    "prs.save('Chart4.pptx')"
   ]
  },
  {
   "cell_type": "markdown",
   "metadata": {},
   "source": [
    "### Viz-4: XY Scatter Plot "
   ]
  },
  {
   "cell_type": "code",
   "execution_count": 15,
   "metadata": {},
   "outputs": [],
   "source": [
    "slide=prs.slides.add_slide(layout)\n",
    "from pptx.chart.data import XySeriesData, XyChartData\n",
    "mydata = XyChartData()\n",
    "\n",
    "#Adding x and y data points\n",
    "x_values_list=loan.groupby('status').mean()['amount'].values\n",
    "y_values_list=loan.groupby('status').mean()['payments'].values\n",
    "\n",
    "md=mydata.add_series('Loan Status', number_format= None)\n",
    "for x, y in list(zip(x_values_list, y_values_list)):\n",
    "         md.add_data_point(x, y, number_format=None)\n",
    "\n",
    "x,y,cx,cy=Inches(2),Inches(2),Inches(8),Inches(5.5)\n",
    "chart = slide.shapes.add_chart(XL_CHART_TYPE.XY_SCATTER, x, y, cx, cy, mydata).chart\n",
    "\n",
    "chart.has_legend=True\n",
    "from pptx.util import Pt\n",
    "chart.chart_title.has_text_frame=True\n",
    "chart.chart_title.text_frame.text='Correlation of default with loan amounts and payments'\n",
    "chart.chart_title.text_frame.paragraphs[0].font.size = Pt(20)\n",
    "chart.chart_title.text_frame.paragraphs[0].font.bold = True\n",
    "\n",
    "#Adding axes titles\n",
    "category_axis_title = chart.category_axis.axis_title\n",
    "category_axis_title.text_frame.text = \"Avg Loan Amount\"\n",
    "value_axis_title = chart.value_axis.axis_title\n",
    "value_axis_title.text_frame.text = \"Avg Monthly Payment\"\n",
    "category_axis = chart.category_axis\n",
    "category_axis.has_major_gridlines=True\n",
    "value_axis=chart.value_axis\n",
    "value_axis.minimum_scale = 2000\n",
    "\n",
    "prs.save('Chart5.pptx')"
   ]
  },
  {
   "cell_type": "markdown",
   "metadata": {},
   "source": [
    "### Multiple Charts in one slide"
   ]
  },
  {
   "cell_type": "code",
   "execution_count": 16,
   "metadata": {},
   "outputs": [],
   "source": [
    "slide=prs.slides.add_slide(layout)\n",
    "\n",
    "#Specifying the data for categories(dimension) and series(values)\n",
    "mydata=CategoryChartData()\n",
    "x=table.groupby('District_Name').count()['client_id'].sort_values(ascending=False).iloc[0:10]\n",
    "mydata.categories=x.index\n",
    "mydata.add_series('No. of clients',x.values)\n",
    "\n",
    "mydata2=CategoryChartData()\n",
    "x=table.groupby('Region').count()['client_id'].sort_values(ascending=False)\n",
    "mydata2.categories=x.index\n",
    "mydata2.add_series('No. of clients',x.values)\n",
    "\n",
    "#Specifying Left, Top, Width and Height margins\n",
    "x,y,cx,cy=Inches(0),Inches(2),Inches(5),Inches(5)\n",
    "x2,y2,cx2,cy2=Inches(5),Inches(2),Inches(5),Inches(5)\n",
    "\n",
    "#Creating chart based on chart type and data\n",
    "chart=slide.shapes.add_chart(XL_CHART_TYPE.COLUMN_CLUSTERED,x,y,cx,cy,mydata).chart\n",
    "chart2=slide.shapes.add_chart(XL_CHART_TYPE.COLUMN_CLUSTERED,x2,y2,cx2,cy2,mydata2).chart\n",
    "\n",
    "#Adding legend and title\n",
    "from pptx.util import Pt\n",
    "chart.chart_title.has_text_frame=True\n",
    "chart.chart_title.text_frame.text='Top 10 Districts with most clients'\n",
    "chart.chart_title.text_frame.paragraphs[0].font.size = Pt(20)\n",
    "chart.chart_title.text_frame.paragraphs[0].font.bold = True\n",
    "\n",
    "chart2.chart_title.has_text_frame=True\n",
    "chart2.chart_title.text_frame.text='Regions with most clients'\n",
    "chart2.chart_title.text_frame.paragraphs[0].font.size = Pt(20)\n",
    "chart2.chart_title.text_frame.paragraphs[0].font.bold = True\n",
    "\n",
    "#Saving as ppt\n",
    "prs.save('Chart6.pptx')"
   ]
  },
  {
   "cell_type": "markdown",
   "metadata": {},
   "source": [
    "### Adding a Table"
   ]
  },
  {
   "cell_type": "code",
   "execution_count": 19,
   "metadata": {},
   "outputs": [],
   "source": [
    "slide=prs.slides.add_slide(layout)\n",
    "\n",
    "table_placeholder=slide.shapes[0]\n",
    "\n",
    "#Specifying Left, Top, Width and Height margins\n",
    "x,y,cx,cy=Inches(0),Inches(6),Inches(10),Inches(1)\n",
    "\n",
    "#Creating chart based on chart type and data\n",
    "shape=slide.shapes.add_table(2,11,x,y,cx,cy)\n",
    "table.first_col=True\n",
    "\n",
    "table=shape.table\n",
    "\n",
    "joint=pd.merge(client,district,how='inner',on='district_id')\n",
    "joint1=joint.groupby('Region').count()['client_id'].sort_values(ascending=False).iloc[0:10]\n",
    "\n",
    "#Adding legend and title\n",
    "\n",
    "cell1=table.cell(0,0)\n",
    "cell1.text='Region'\n",
    "cell2=table.cell(1,0)\n",
    "cell2.text='Population'\n",
    "from pptx.dml.color import RGBColor\n",
    "cell1.fill.solid()\n",
    "cell1.fill.fore_color.rgb = RGBColor(185, 70, 70)\n",
    "cell2.fill.solid()\n",
    "cell2.fill.fore_color.rgb = RGBColor(235,224,224)\n",
    "\n",
    "cnt=1\n",
    "for i in joint1.index:\n",
    "    cell = table.cell(0, cnt)\n",
    "    cell.text = i\n",
    "    cnt=cnt+1\n",
    "cnt=1\n",
    "for i in joint1.index:\n",
    "    cell = table.cell(1, cnt)\n",
    "    cell.text = str(round((district[district['Region']==i]['Population'].mean()/1000)))+'K'\n",
    "    cnt=cnt+1\n",
    "\n",
    "#Saving as ppt\n",
    "prs.save('Table1.pptx')"
   ]
  },
  {
   "cell_type": "code",
   "execution_count": null,
   "metadata": {},
   "outputs": [],
   "source": []
  },
  {
   "cell_type": "code",
   "execution_count": null,
   "metadata": {},
   "outputs": [],
   "source": []
  },
  {
   "cell_type": "code",
   "execution_count": null,
   "metadata": {},
   "outputs": [],
   "source": []
  },
  {
   "cell_type": "code",
   "execution_count": null,
   "metadata": {},
   "outputs": [],
   "source": []
  },
  {
   "cell_type": "code",
   "execution_count": null,
   "metadata": {},
   "outputs": [],
   "source": []
  },
  {
   "cell_type": "code",
   "execution_count": null,
   "metadata": {},
   "outputs": [],
   "source": []
  },
  {
   "cell_type": "code",
   "execution_count": null,
   "metadata": {},
   "outputs": [],
   "source": []
  },
  {
   "cell_type": "code",
   "execution_count": null,
   "metadata": {},
   "outputs": [],
   "source": []
  },
  {
   "cell_type": "code",
   "execution_count": null,
   "metadata": {},
   "outputs": [],
   "source": []
  },
  {
   "cell_type": "code",
   "execution_count": null,
   "metadata": {},
   "outputs": [],
   "source": []
  },
  {
   "cell_type": "code",
   "execution_count": null,
   "metadata": {},
   "outputs": [],
   "source": []
  },
  {
   "cell_type": "code",
   "execution_count": null,
   "metadata": {},
   "outputs": [],
   "source": []
  },
  {
   "cell_type": "code",
   "execution_count": null,
   "metadata": {},
   "outputs": [],
   "source": []
  },
  {
   "cell_type": "code",
   "execution_count": null,
   "metadata": {},
   "outputs": [],
   "source": []
  },
  {
   "cell_type": "code",
   "execution_count": null,
   "metadata": {},
   "outputs": [],
   "source": []
  },
  {
   "cell_type": "code",
   "execution_count": null,
   "metadata": {},
   "outputs": [],
   "source": []
  },
  {
   "cell_type": "code",
   "execution_count": null,
   "metadata": {},
   "outputs": [],
   "source": []
  },
  {
   "cell_type": "code",
   "execution_count": null,
   "metadata": {},
   "outputs": [],
   "source": []
  },
  {
   "cell_type": "code",
   "execution_count": null,
   "metadata": {},
   "outputs": [],
   "source": []
  },
  {
   "cell_type": "code",
   "execution_count": null,
   "metadata": {},
   "outputs": [],
   "source": []
  },
  {
   "cell_type": "code",
   "execution_count": null,
   "metadata": {},
   "outputs": [],
   "source": []
  },
  {
   "cell_type": "code",
   "execution_count": null,
   "metadata": {},
   "outputs": [],
   "source": []
  },
  {
   "cell_type": "code",
   "execution_count": null,
   "metadata": {},
   "outputs": [],
   "source": []
  },
  {
   "cell_type": "code",
   "execution_count": null,
   "metadata": {},
   "outputs": [],
   "source": []
  },
  {
   "cell_type": "code",
   "execution_count": null,
   "metadata": {},
   "outputs": [],
   "source": []
  },
  {
   "cell_type": "code",
   "execution_count": null,
   "metadata": {},
   "outputs": [],
   "source": []
  },
  {
   "cell_type": "code",
   "execution_count": null,
   "metadata": {},
   "outputs": [],
   "source": []
  },
  {
   "cell_type": "code",
   "execution_count": null,
   "metadata": {},
   "outputs": [],
   "source": []
  },
  {
   "cell_type": "code",
   "execution_count": null,
   "metadata": {},
   "outputs": [],
   "source": []
  },
  {
   "cell_type": "code",
   "execution_count": null,
   "metadata": {},
   "outputs": [],
   "source": []
  },
  {
   "cell_type": "code",
   "execution_count": null,
   "metadata": {},
   "outputs": [],
   "source": []
  },
  {
   "cell_type": "code",
   "execution_count": null,
   "metadata": {},
   "outputs": [],
   "source": []
  },
  {
   "cell_type": "code",
   "execution_count": null,
   "metadata": {},
   "outputs": [],
   "source": []
  },
  {
   "cell_type": "code",
   "execution_count": null,
   "metadata": {},
   "outputs": [],
   "source": []
  },
  {
   "cell_type": "code",
   "execution_count": null,
   "metadata": {},
   "outputs": [],
   "source": []
  },
  {
   "cell_type": "code",
   "execution_count": null,
   "metadata": {},
   "outputs": [],
   "source": []
  },
  {
   "cell_type": "code",
   "execution_count": null,
   "metadata": {},
   "outputs": [],
   "source": []
  },
  {
   "cell_type": "code",
   "execution_count": null,
   "metadata": {},
   "outputs": [],
   "source": []
  },
  {
   "cell_type": "code",
   "execution_count": null,
   "metadata": {},
   "outputs": [],
   "source": []
  },
  {
   "cell_type": "code",
   "execution_count": null,
   "metadata": {},
   "outputs": [],
   "source": []
  },
  {
   "cell_type": "code",
   "execution_count": null,
   "metadata": {},
   "outputs": [],
   "source": []
  },
  {
   "cell_type": "code",
   "execution_count": null,
   "metadata": {},
   "outputs": [],
   "source": []
  },
  {
   "cell_type": "code",
   "execution_count": null,
   "metadata": {},
   "outputs": [],
   "source": []
  },
  {
   "cell_type": "code",
   "execution_count": null,
   "metadata": {},
   "outputs": [],
   "source": []
  },
  {
   "cell_type": "code",
   "execution_count": null,
   "metadata": {},
   "outputs": [],
   "source": []
  },
  {
   "cell_type": "code",
   "execution_count": null,
   "metadata": {},
   "outputs": [],
   "source": []
  }
 ],
 "metadata": {
  "kernelspec": {
   "display_name": "Python 3",
   "language": "python",
   "name": "python3"
  },
  "language_info": {
   "codemirror_mode": {
    "name": "ipython",
    "version": 3
   },
   "file_extension": ".py",
   "mimetype": "text/x-python",
   "name": "python",
   "nbconvert_exporter": "python",
   "pygments_lexer": "ipython3",
   "version": "3.7.6"
  }
 },
 "nbformat": 4,
 "nbformat_minor": 4
}
